{
 "cells": [
  {
   "cell_type": "markdown",
   "metadata": {},
   "source": [
    "# MTG metagame\n",
    "***\n",
    "Extract the counts of the most played decks lately in the different formats of Magic: The Gathering according to data from registered tournaments.\n",
    "\n",
    "*The information presented about Magic: The Gathering, both literal and graphical, is copyrighted by Wizards of the Coast. This notebook is not produced, endorsed, supported, or affiliated with Wizards of the Coast.*"
   ]
  },
  {
   "cell_type": "code",
   "execution_count": 1,
   "metadata": {},
   "outputs": [],
   "source": [
    "from bs4 import BeautifulSoup\n",
    "import pandas as pd\n",
    "import numpy as np\n",
    "import matplotlib.pyplot as plt\n",
    "import requests\n",
    "import re"
   ]
  },
  {
   "cell_type": "markdown",
   "metadata": {},
   "source": [
    "The different formats follow the 2-letter code (with the exception of EDH):"
   ]
  },
  {
   "cell_type": "code",
   "execution_count": 2,
   "metadata": {},
   "outputs": [],
   "source": [
    "formats = {'Vintage': 'VI', 'Legacy': 'LE', 'Modern': 'MO', 'Pioneer': 'PI', 'Commander': 'EDH'}\n",
    "mtg_format = formats['Modern']"
   ]
  },
  {
   "cell_type": "markdown",
   "metadata": {},
   "source": [
    "**Note:** each format has it's own metagame and will be listed by different time frames."
   ]
  },
  {
   "cell_type": "markdown",
   "metadata": {},
   "source": [
    "## Data scraping"
   ]
  },
  {
   "cell_type": "code",
   "execution_count": 3,
   "metadata": {},
   "outputs": [],
   "source": [
    "page = requests.get('https://www.mtgtop8.com/format?f='+mtg_format)\n",
    "soup = BeautifulSoup(page.content, 'lxml')"
   ]
  },
  {
   "attachments": {},
   "cell_type": "markdown",
   "metadata": {},
   "source": [
    "The relevant information are table rows of class `'hover_tr'`\n",
    "![img/rows.png](img/rows.png)"
   ]
  },
  {
   "cell_type": "code",
   "execution_count": 4,
   "metadata": {},
   "outputs": [],
   "source": [
    "rows = soup.find_all('tr', class_=['hover_tr', 'chosen_tr'])\n",
    "# For some reason, a deck might be selected by default, putting it under the class 'chosen_tr' instead"
   ]
  },
  {
   "cell_type": "code",
   "execution_count": 5,
   "metadata": {},
   "outputs": [
    {
     "name": "stdout",
     "output_type": "stream",
     "text": [
      "[\"'\\\\nRed Deck Wins\\\\n154\\\\n10 %\\\\n\\\\n\\\\n'\", '\"\\\\nDeath\\'s Shadow\\\\n99\\\\n7 %\\\\n\\\\n\\\\n\"', \"'\\\\nEldrazi Aggro\\\\n93\\\\n6 %\\\\n\\\\n\\\\n'\"]\n"
     ]
    }
   ],
   "source": [
    "print([repr(row.get_text()) for row in rows[:3]])"
   ]
  },
  {
   "cell_type": "code",
   "execution_count": 6,
   "metadata": {},
   "outputs": [],
   "source": [
    "clean_rows1 = []\n",
    "for row in rows:\n",
    "    clean_rows1.append(row.get_text().split('\\n'))"
   ]
  },
  {
   "cell_type": "code",
   "execution_count": 7,
   "metadata": {},
   "outputs": [
    {
     "name": "stdout",
     "output_type": "stream",
     "text": [
      "[['', 'Red Deck Wins', '154', '10 %', '', '', ''], ['', \"Death's Shadow\", '99', '7 %', '', '', ''], ['', 'Eldrazi Aggro', '93', '6 %', '', '', '']]\n"
     ]
    }
   ],
   "source": [
    "print(clean_rows1[:3])"
   ]
  },
  {
   "cell_type": "code",
   "execution_count": 8,
   "metadata": {},
   "outputs": [],
   "source": [
    "clean_rows2 = []\n",
    "for row in clean_rows1:\n",
    "    clean_rows2.append([s for s in row if s])"
   ]
  },
  {
   "cell_type": "code",
   "execution_count": 9,
   "metadata": {},
   "outputs": [
    {
     "name": "stdout",
     "output_type": "stream",
     "text": [
      "[['Red Deck Wins', '154', '10 %'], [\"Death's Shadow\", '99', '7 %'], ['Eldrazi Aggro', '93', '6 %']]\n"
     ]
    }
   ],
   "source": [
    "print(clean_rows2[:3])"
   ]
  },
  {
   "attachments": {},
   "cell_type": "markdown",
   "metadata": {},
   "source": [
    "Now we want to find out the number of decks of each **strategy** to know how many rows we read.\n",
    "\n",
    "![img/strat.png](img/strat.png)\n",
    "\n",
    "By counting manually, we find out that the number of decks is the number indicated by the attribute `'rowspan'` minus one."
   ]
  },
  {
   "cell_type": "code",
   "execution_count": 11,
   "metadata": {},
   "outputs": [],
   "source": [
    "strategy = [item for item in soup.find_all('td') if item.has_attr('rowspan')]"
   ]
  },
  {
   "cell_type": "code",
   "execution_count": 12,
   "metadata": {},
   "outputs": [
    {
     "name": "stdout",
     "output_type": "stream",
     "text": [
      "{'Aggro': 31, 'Control': 20, 'Combo': 20}\n"
     ]
    }
   ],
   "source": [
    "strat_dict = {}\n",
    "for strat in strategy:\n",
    "    strat_dict[re.sub('[^a-zA-Z]+', '', strat.get_text())] = int(strat.attrs['rowspan']) - 1\n",
    "    \n",
    "print(strat_dict)"
   ]
  },
  {
   "cell_type": "code",
   "execution_count": 13,
   "metadata": {},
   "outputs": [
    {
     "name": "stdout",
     "output_type": "stream",
     "text": [
      "71\n"
     ]
    }
   ],
   "source": [
    "num_of_decks = sum(strat_dict.values())\n",
    "print(num_of_decks)"
   ]
  },
  {
   "cell_type": "code",
   "execution_count": 14,
   "metadata": {},
   "outputs": [],
   "source": [
    "clean_rows2 = clean_rows2[:num_of_decks]"
   ]
  },
  {
   "cell_type": "code",
   "execution_count": 15,
   "metadata": {
    "scrolled": true
   },
   "outputs": [
    {
     "data": {
      "text/html": [
       "<div>\n",
       "<style scoped>\n",
       "    .dataframe tbody tr th:only-of-type {\n",
       "        vertical-align: middle;\n",
       "    }\n",
       "\n",
       "    .dataframe tbody tr th {\n",
       "        vertical-align: top;\n",
       "    }\n",
       "\n",
       "    .dataframe thead th {\n",
       "        text-align: right;\n",
       "    }\n",
       "</style>\n",
       "<table border=\"1\" class=\"dataframe\">\n",
       "  <thead>\n",
       "    <tr style=\"text-align: right;\">\n",
       "      <th></th>\n",
       "      <th>Archetype</th>\n",
       "      <th>Decks</th>\n",
       "      <th>Meta share</th>\n",
       "    </tr>\n",
       "  </thead>\n",
       "  <tbody>\n",
       "    <tr>\n",
       "      <th>0</th>\n",
       "      <td>Red Deck Wins</td>\n",
       "      <td>154</td>\n",
       "      <td>10 %</td>\n",
       "    </tr>\n",
       "    <tr>\n",
       "      <th>1</th>\n",
       "      <td>Death's Shadow</td>\n",
       "      <td>99</td>\n",
       "      <td>7 %</td>\n",
       "    </tr>\n",
       "    <tr>\n",
       "      <th>2</th>\n",
       "      <td>Eldrazi Aggro</td>\n",
       "      <td>93</td>\n",
       "      <td>6 %</td>\n",
       "    </tr>\n",
       "    <tr>\n",
       "      <th>3</th>\n",
       "      <td>Jund</td>\n",
       "      <td>86</td>\n",
       "      <td>6 %</td>\n",
       "    </tr>\n",
       "    <tr>\n",
       "      <th>4</th>\n",
       "      <td>Humans</td>\n",
       "      <td>42</td>\n",
       "      <td>3 %</td>\n",
       "    </tr>\n",
       "  </tbody>\n",
       "</table>\n",
       "</div>"
      ],
      "text/plain": [
       "        Archetype Decks Meta share\n",
       "0   Red Deck Wins   154       10 %\n",
       "1  Death's Shadow    99        7 %\n",
       "2   Eldrazi Aggro    93        6 %\n",
       "3            Jund    86        6 %\n",
       "4          Humans    42        3 %"
      ]
     },
     "execution_count": 15,
     "metadata": {},
     "output_type": "execute_result"
    }
   ],
   "source": [
    "columns = ['Archetype', 'Decks', 'Meta share']\n",
    "df = pd.DataFrame(clean_rows2, columns=columns)\n",
    "df.head()"
   ]
  },
  {
   "cell_type": "markdown",
   "metadata": {},
   "source": [
    "Since the meta share is a derived information based on the number of decks of each archetype, we can drop that column."
   ]
  },
  {
   "cell_type": "code",
   "execution_count": 16,
   "metadata": {
    "scrolled": true
   },
   "outputs": [],
   "source": [
    "df = df.drop('Meta share', axis=1)"
   ]
  },
  {
   "cell_type": "markdown",
   "metadata": {},
   "source": [
    "Now we add the strategy of each deck (as in Aggro, Control or Combo)."
   ]
  },
  {
   "cell_type": "code",
   "execution_count": 17,
   "metadata": {},
   "outputs": [],
   "source": [
    "df['Strategy'] = None"
   ]
  },
  {
   "cell_type": "code",
   "execution_count": 18,
   "metadata": {},
   "outputs": [],
   "source": [
    "i = 0\n",
    "for k,v in strat_dict.items():\n",
    "    for j in range(v):\n",
    "        df['Strategy'].iloc[i] = k\n",
    "        i += 1"
   ]
  },
  {
   "cell_type": "markdown",
   "metadata": {},
   "source": [
    "And change the `'Deck'` column dtype to numeric so we can perform calculations. Also, sort the data by the decks count."
   ]
  },
  {
   "cell_type": "code",
   "execution_count": 19,
   "metadata": {},
   "outputs": [],
   "source": [
    "df['Decks'] = pd.to_numeric(df['Decks'])\n",
    "df = df.sort_values(by='Decks', ascending=False).reset_index(drop=True)"
   ]
  },
  {
   "cell_type": "markdown",
   "metadata": {},
   "source": [
    "## Data analysis"
   ]
  },
  {
   "cell_type": "code",
   "execution_count": 20,
   "metadata": {},
   "outputs": [
    {
     "data": {
      "text/html": [
       "<div>\n",
       "<style scoped>\n",
       "    .dataframe tbody tr th:only-of-type {\n",
       "        vertical-align: middle;\n",
       "    }\n",
       "\n",
       "    .dataframe tbody tr th {\n",
       "        vertical-align: top;\n",
       "    }\n",
       "\n",
       "    .dataframe thead th {\n",
       "        text-align: right;\n",
       "    }\n",
       "</style>\n",
       "<table border=\"1\" class=\"dataframe\">\n",
       "  <thead>\n",
       "    <tr style=\"text-align: right;\">\n",
       "      <th></th>\n",
       "      <th>Decks</th>\n",
       "    </tr>\n",
       "    <tr>\n",
       "      <th>Strategy</th>\n",
       "      <th></th>\n",
       "    </tr>\n",
       "  </thead>\n",
       "  <tbody>\n",
       "    <tr>\n",
       "      <th>Aggro</th>\n",
       "      <td>687</td>\n",
       "    </tr>\n",
       "    <tr>\n",
       "      <th>Combo</th>\n",
       "      <td>360</td>\n",
       "    </tr>\n",
       "    <tr>\n",
       "      <th>Control</th>\n",
       "      <td>424</td>\n",
       "    </tr>\n",
       "  </tbody>\n",
       "</table>\n",
       "</div>"
      ],
      "text/plain": [
       "          Decks\n",
       "Strategy       \n",
       "Aggro       687\n",
       "Combo       360\n",
       "Control     424"
      ]
     },
     "execution_count": 20,
     "metadata": {},
     "output_type": "execute_result"
    }
   ],
   "source": [
    "df_by_strat = df.groupby(['Strategy']).sum()\n",
    "df_by_strat"
   ]
  },
  {
   "cell_type": "code",
   "execution_count": 21,
   "metadata": {
    "scrolled": true
   },
   "outputs": [
    {
     "data": {
      "image/png": "[encoded data removed]",
      "text/plain": [
       "<Figure size 432x288 with 1 Axes>"
      ]
     },
     "metadata": {},
     "output_type": "display_data"
    }
   ],
   "source": [
    "sizes = df_by_strat['Decks']\n",
    "explode = (0.1, 0, 0)\n",
    "labels = df_by_strat.index\n",
    "colors = ['#ff9999', '#99ff99', '#66b3ff']\n",
    "\n",
    "plt.pie(sizes,\n",
    "        explode=explode,\n",
    "        labels=labels,\n",
    "        colors=colors,\n",
    "        autopct='%1.1f',\n",
    "        shadow=True,\n",
    "        counterclock=False,\n",
    "        startangle=90)\n",
    "plt.title('% By deck strategy')\n",
    "plt.show()"
   ]
  },
  {
   "cell_type": "code",
   "execution_count": 24,
   "metadata": {},
   "outputs": [
    {
     "data": {
      "image/png": "[encoded data removed]",
      "text/plain": [
       "<Figure size 432x288 with 1 Axes>"
      ]
     },
     "metadata": {},
     "output_type": "display_data"
    }
   ],
   "source": [
    "sizes = df['Decks'].head(6)\n",
    "explode = (0.1, 0, 0, 0, 0, 0)\n",
    "labels = df['Archetype'].head(6)\n",
    "colors = ['#ff9999', '#f8b88b', '#faf884', '#99ff99', '#66b3ff', '#f2a2e8']\n",
    "\n",
    "plt.pie(sizes,\n",
    "        explode=explode,\n",
    "        labels=labels,\n",
    "        colors=colors,\n",
    "        shadow=True,\n",
    "        counterclock=False,\n",
    "        startangle=90)\n",
    "plt.title('Top 6 decks')\n",
    "plt.show()"
   ]
  }
 ],
 "metadata": {
  "kernelspec": {
   "display_name": "Python 3",
   "language": "python",
   "name": "python3"
  },
  "language_info": {
   "codemirror_mode": {
    "name": "ipython",
    "version": 3
   },
   "file_extension": ".py",
   "mimetype": "text/x-python",
   "name": "python",
   "nbconvert_exporter": "python",
   "pygments_lexer": "ipython3",
   "version": "3.7.3"
  }
 },
 "nbformat": 4,
 "nbformat_minor": 2
}
